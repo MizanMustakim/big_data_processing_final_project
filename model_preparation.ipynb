{
  "nbformat": 4,
  "nbformat_minor": 0,
  "metadata": {
    "colab": {
      "name": "model_preparation.ipynb",
      "provenance": [],
      "authorship_tag": "ABX9TyMhPHmna3YJTHRe5aAYqN8K",
      "include_colab_link": true
    },
    "kernelspec": {
      "name": "python3",
      "display_name": "Python 3"
    },
    "language_info": {
      "name": "python"
    }
  },
  "cells": [
    {
      "cell_type": "markdown",
      "metadata": {
        "id": "view-in-github",
        "colab_type": "text"
      },
      "source": [
        "<a href=\"https://colab.research.google.com/github/MizanMustakim/big_data_processing_final_project/blob/Mizan/model_preparation.ipynb\" target=\"_parent\"><img src=\"https://colab.research.google.com/assets/colab-badge.svg\" alt=\"Open In Colab\"/></a>"
      ]
    },
    {
      "cell_type": "code",
      "execution_count": 1,
      "metadata": {
        "colab": {
          "base_uri": "https://localhost:8080/"
        },
        "id": "DeULQHrb79Pu",
        "outputId": "182e51ea-3904-4d7d-d4d6-ca9c557d6bf1"
      },
      "outputs": [
        {
          "output_type": "stream",
          "name": "stdout",
          "text": [
            "Mounted at /content/drive\n"
          ]
        }
      ],
      "source": [
        "from google.colab import drive\n",
        "drive.mount('/content/drive')"
      ]
    },
    {
      "cell_type": "code",
      "source": [
        "!pip install pyspark\n",
        "!pip install sparknlp"
      ],
      "metadata": {
        "colab": {
          "base_uri": "https://localhost:8080/"
        },
        "id": "IqXbbWE38RbM",
        "outputId": "2a2f4396-8903-4707-f78d-aaf1d7d07c96"
      },
      "execution_count": 2,
      "outputs": [
        {
          "output_type": "stream",
          "name": "stdout",
          "text": [
            "Looking in indexes: https://pypi.org/simple, https://us-python.pkg.dev/colab-wheels/public/simple/\n",
            "Collecting pyspark\n",
            "  Downloading pyspark-3.2.1.tar.gz (281.4 MB)\n",
            "\u001b[K     |████████████████████████████████| 281.4 MB 32 kB/s \n",
            "\u001b[?25hCollecting py4j==0.10.9.3\n",
            "  Downloading py4j-0.10.9.3-py2.py3-none-any.whl (198 kB)\n",
            "\u001b[K     |████████████████████████████████| 198 kB 53.8 MB/s \n",
            "\u001b[?25hBuilding wheels for collected packages: pyspark\n",
            "  Building wheel for pyspark (setup.py) ... \u001b[?25l\u001b[?25hdone\n",
            "  Created wheel for pyspark: filename=pyspark-3.2.1-py2.py3-none-any.whl size=281853642 sha256=58ae13a4d6624bd5ddd441ff0ab6066ff00381bf26fe8cdc191bce63d01a528c\n",
            "  Stored in directory: /root/.cache/pip/wheels/9f/f5/07/7cd8017084dce4e93e84e92efd1e1d5334db05f2e83bcef74f\n",
            "Successfully built pyspark\n",
            "Installing collected packages: py4j, pyspark\n",
            "Successfully installed py4j-0.10.9.3 pyspark-3.2.1\n",
            "Looking in indexes: https://pypi.org/simple, https://us-python.pkg.dev/colab-wheels/public/simple/\n",
            "Collecting sparknlp\n",
            "  Downloading sparknlp-1.0.0-py3-none-any.whl (1.4 kB)\n",
            "Collecting spark-nlp\n",
            "  Downloading spark_nlp-3.4.4-py2.py3-none-any.whl (145 kB)\n",
            "\u001b[K     |████████████████████████████████| 145 kB 5.2 MB/s \n",
            "\u001b[?25hRequirement already satisfied: numpy in /usr/local/lib/python3.7/dist-packages (from sparknlp) (1.21.6)\n",
            "Installing collected packages: spark-nlp, sparknlp\n",
            "Successfully installed spark-nlp-3.4.4 sparknlp-1.0.0\n"
          ]
        }
      ]
    },
    {
      "cell_type": "code",
      "source": [
        "import sparknlp\n",
        "from pyspark.sql import SparkSession\n",
        "from sparknlp.base import *\n",
        "from sparknlp.annotator import *\n",
        "from pyspark.sql.functions import json_tuple\n",
        "from pyspark.sql.types import MapType,StringType,ArrayType,StructType,StructField\n",
        "from pyspark.sql.functions import *"
      ],
      "metadata": {
        "id": "Y_0ceBeM8bx3"
      },
      "execution_count": 3,
      "outputs": []
    },
    {
      "cell_type": "code",
      "source": [
        "# Checking the versions of pyspark and sparknlp\n",
        "\n",
        "spark = SparkSession.builder \\\n",
        "    .master(\"local\") \\\n",
        "    .appName(\"Proj\") \\\n",
        "    .config(\"spark.sql.warehouse.dir\")\\\n",
        "    .getOrCreate()\n",
        "print(\"Spark NLP version: {}\".format(sparknlp.version()))\n",
        "print(\"Apache Spark version: {}\".format(spark.version))"
      ],
      "metadata": {
        "colab": {
          "base_uri": "https://localhost:8080/"
        },
        "id": "O6OrK08KC5Uu",
        "outputId": "8a375730-bb6e-4a38-8d3f-a112180c4ebe"
      },
      "execution_count": 4,
      "outputs": [
        {
          "output_type": "stream",
          "name": "stdout",
          "text": [
            "Spark NLP version: 3.4.4\n",
            "Apache Spark version: 3.2.1\n"
          ]
        }
      ]
    },
    {
      "cell_type": "code",
      "source": [
        "df = spark.read.option(\"multiline\",\"true\")\\\n",
        "          .csv(\"/content/drive/MyDrive/metadata.csv\", header=True)\n",
        "\n",
        "df.show()"
      ],
      "metadata": {
        "colab": {
          "base_uri": "https://localhost:8080/"
        },
        "id": "n7uYLow8C8vs",
        "outputId": "c0f65947-5484-4ac6-a044-6099946b77bc"
      },
      "execution_count": 6,
      "outputs": [
        {
          "output_type": "stream",
          "name": "stdout",
          "text": [
            "+--------+--------------------+--------+--------------------+--------------------+---------+---------+---------+--------------------+------------+--------------------+--------------------+------+----------------+--------+--------------------+--------------------+--------------------+-----+\n",
            "|cord_uid|                 sha|source_x|               title|                 doi|    pmcid|pubmed_id|  license|            abstract|publish_time|             authors|             journal|mag_id|who_covidence_id|arxiv_id|      pdf_json_files|      pmc_json_files|                 url|s2_id|\n",
            "+--------+--------------------+--------+--------------------+--------------------+---------+---------+---------+--------------------+------------+--------------------+--------------------+------+----------------+--------+--------------------+--------------------+--------------------+-----+\n",
            "|ug7v899j|d1aafb70c066a2068...|     PMC|Clinical features...|10.1186/1471-2334...| PMC35282| 11472636|    no-cc|OBJECTIVE: This r...|  2001-07-04|Madani, Tariq A; ...|      BMC Infect Dis|  null|            null|    null|document_parses/p...|document_parses/p...|https://www.ncbi....| null|\n",
            "|02tnwd4m|6b0567729c2143a66...|     PMC|Nitric oxide: a p...|        10.1186/rr14| PMC59543| 11667967|    no-cc|Inflammatory dise...|  2000-08-15|Vliet, Albert van...|          Respir Res|  null|            null|    null|document_parses/p...|document_parses/p...|https://www.ncbi....| null|\n",
            "|ejv2xln0|06ced00a5fc042159...|     PMC|Surfactant protei...|        10.1186/rr19| PMC59549| 11667972|    no-cc|Surfactant protei...|  2000-08-25|     Crouch, Erika C|          Respir Res|  null|            null|    null|document_parses/p...|document_parses/p...|https://www.ncbi....| null|\n",
            "|2b73a28n|348055649b6b8cf2b...|     PMC|Role of endotheli...|        10.1186/rr44| PMC59574| 11686871|    no-cc|Endothelin-1 (ET-...|  2001-02-22|Fagan, Karen A; M...|          Respir Res|  null|            null|    null|document_parses/p...|document_parses/p...|https://www.ncbi....| null|\n",
            "|9785vg6d|5f48792a5fa08bed9...|     PMC|Gene expression i...|        10.1186/rr61| PMC59580| 11686888|    no-cc|Respiratory syncy...|  2001-05-11|Domachowske, Jose...|          Respir Res|  null|            null|    null|document_parses/p...|document_parses/p...|https://www.ncbi....| null|\n",
            "|zjufx4fo|b2897e1277f566411...|     PMC|Sequence requirem...|10.1093/emboj/20....|PMC125340| 11742998| green-oa|Nidovirus subgeno...|  2001-12-17|Pasternak, Alexan...|    The EMBO Journal|  null|            null|    null|document_parses/p...|document_parses/p...|http://europepmc....| null|\n",
            "|5yhe786e|3bb07ea10432f7738...|     PMC|Debate: Transfusi...|       10.1186/cc987|PMC137267| 11299062|    no-cc|Recent evidence s...|  2001-03-08|Alvarez, Gonzalo;...|           Crit Care|  null|            null|    null|document_parses/p...|document_parses/p...|https://www.ncbi....| null|\n",
            "|8zchiykl|5806726a24dc91de3...|     PMC|The 21st Internat...|      10.1186/cc1013|PMC137274| 11353930|    no-cc|The 21st Internat...|  2001-05-02|Ball, Jonathan; V...|           Crit Care|  null|            null|    null|document_parses/p...|document_parses/p...|https://www.ncbi....| null|\n",
            "|8qnrcgnk|faaf1022ccfe93b03...|     PMC|Heme oxygenase-1 ...|10.1186/1465-9921...|PMC193681| 12964953|    no-cc|Heme oxygenase-1 ...|  2003-08-07|Slebos, Dirk-Jan;...|          Respir Res|  null|            null|    null|document_parses/p...|document_parses/p...|https://www.ncbi....| null|\n",
            "|jg13scgo|5b44feca5d6ffaaeb...|     PMC|Technical Descrip...| 10.1197/jamia.m1345|PMC212776| 12807803|bronze-oa|This report descr...|  2003-09-01|Tsui, Fu-Chiang; ...|Journal of the Am...|  null|            null|    null|document_parses/p...|document_parses/p...|https://academic....| null|\n",
            "|5tkvsudh|9d4e3e8eb092d5ed2...|     PMC|Conservation of p...|10.1093/emboj/19....|PMC302018| 10775274|    no-cc|Regulation of orn...|  2000-04-17|Ivanov, Ivaylo P....|              EMBO J|  null|            null|    null|document_parses/p...|document_parses/p...|https://www.ncbi....| null|\n",
            "|6lvn10f4|14e0cac6e86d62859...|     PMC|Heterogeneous nuc...|10.1093/emboj/19....|PMC302072| 10970862| green-oa|Heterogeneous nuc...|  2000-09-01|Shi, Stephanie T....|    The EMBO Journal|  null|            null|    null|document_parses/p...|document_parses/p...|http://europepmc....| null|\n",
            "|tvxpckxo|d09b79026117ec9fa...|     PMC|A Method to Ident...|       10.1251/bpo66|PMC302190| 14702098|    no-cc|The UBA domain is...|  2003-12-12|Pridgeon, Julia W...|  Biol Proced Online|  null|            null|    null|document_parses/p...|document_parses/p...|https://www.ncbi....| null|\n",
            "|mcuixluu|44102e3e69e70ad2a...|     PMC|Vaccinia virus in...|10.1093/emboj/19....|PMC306617| 10921875| green-oa|We examined the r...|  2000-08-01|Ploubidou, Aspasi...|    The EMBO Journal|  null|            null|    null|document_parses/p...|document_parses/p...|http://europepmc....| null|\n",
            "|6iu1dtyl|6e8517cb25ff228cb...|     PMC|The site of origi...|10.1186/1479-5876...|PMC340389| 14733617|    no-cc|                null|  2004-01-20|       Barry, John M|        J Transl Med|  null|            null|    null|document_parses/p...|document_parses/p...|https://www.ncbi....| null|\n",
            "|t35n7bk9|30a4842a2e257f725...|     PMC|Multi-faceted, mu...|10.1186/1742-4690...|PMC420498| 15169556|    no-cc|There are hundred...|  2004-05-26|Shieh, Biehuoy; L...|       Retrovirology|  null|            null|    null|document_parses/p...|document_parses/p...|https://www.ncbi....| null|\n",
            "|eiqypt0m|6a8ac55ea2a1fbd99...|     PMC|Herpes simplex vi...|      10.1186/cc2850|PMC468896| 15153242|    no-cc|INTRODUCTION: The...|  2004-03-31|Verheij, Joanne; ...|           Crit Care|  null|            null|    null|document_parses/p...|document_parses/p...|https://www.ncbi....| null|\n",
            "|sgmk96vr|367af6bb9a8bbda02...|     PMC|Logistics of comm...|10.1186/1471-2458...|PMC520756| 15298713|    cc-by|BACKGROUND: Previ...|  2004-08-06|Porco, Travis C; ...|   BMC Public Health|  null|            null|    null|document_parses/p...|document_parses/p...|https://www.ncbi....| null|\n",
            "|di0fcy0j|4df2c6eecb985fcb2...|     PMC|Protection of pul...|10.1186/1465-9921...|PMC521691| 15450125|    cc-by|BACKGROUND: Oxyge...|  2004-09-27|Kremer, Ted M; Ri...|          Respir Res|  null|            null|    null|document_parses/p...|document_parses/p...|https://www.ncbi....| null|\n",
            "|4k8f7ou1|83b05e8afa6cbe7a6...|     PMC|Bioinformatic map...|10.1186/1471-2164...|PMC544882| 15627404|    cc-by|BACKGROUND: AlkB-...|  2005-01-03|Bratlie, Marit S;...|        BMC Genomics|  null|            null|    null|document_parses/p...|document_parses/p...|https://www.ncbi....| null|\n",
            "+--------+--------------------+--------+--------------------+--------------------+---------+---------+---------+--------------------+------------+--------------------+--------------------+------+----------------+--------+--------------------+--------------------+--------------------+-----+\n",
            "only showing top 20 rows\n",
            "\n"
          ]
        }
      ]
    },
    {
      "cell_type": "code",
      "source": [
        "df.count()"
      ],
      "metadata": {
        "colab": {
          "base_uri": "https://localhost:8080/"
        },
        "id": "KfhDO4kjDah9",
        "outputId": "1ad6fb39-a557-4a3d-9627-7bfa2ed76f09"
      },
      "execution_count": 7,
      "outputs": [
        {
          "output_type": "execute_result",
          "data": {
            "text/plain": [
              "1015768"
            ]
          },
          "metadata": {},
          "execution_count": 7
        }
      ]
    },
    {
      "cell_type": "code",
      "source": [
        "df.printSchema()"
      ],
      "metadata": {
        "colab": {
          "base_uri": "https://localhost:8080/"
        },
        "id": "ZNY0E-BJD_8W",
        "outputId": "4f566103-d9c9-416a-ed51-abf31e1c71c9"
      },
      "execution_count": 9,
      "outputs": [
        {
          "output_type": "stream",
          "name": "stdout",
          "text": [
            "root\n",
            " |-- cord_uid: string (nullable = true)\n",
            " |-- sha: string (nullable = true)\n",
            " |-- source_x: string (nullable = true)\n",
            " |-- title: string (nullable = true)\n",
            " |-- doi: string (nullable = true)\n",
            " |-- pmcid: string (nullable = true)\n",
            " |-- pubmed_id: string (nullable = true)\n",
            " |-- license: string (nullable = true)\n",
            " |-- abstract: string (nullable = true)\n",
            " |-- publish_time: string (nullable = true)\n",
            " |-- authors: string (nullable = true)\n",
            " |-- journal: string (nullable = true)\n",
            " |-- mag_id: string (nullable = true)\n",
            " |-- who_covidence_id: string (nullable = true)\n",
            " |-- arxiv_id: string (nullable = true)\n",
            " |-- pdf_json_files: string (nullable = true)\n",
            " |-- pmc_json_files: string (nullable = true)\n",
            " |-- url: string (nullable = true)\n",
            " |-- s2_id: string (nullable = true)\n",
            "\n"
          ]
        }
      ]
    },
    {
      "cell_type": "code",
      "source": [
        ""
      ],
      "metadata": {
        "id": "1pf7ksoLECPc"
      },
      "execution_count": null,
      "outputs": []
    }
  ]
}