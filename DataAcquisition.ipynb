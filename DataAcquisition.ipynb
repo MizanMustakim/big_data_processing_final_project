{
  "cells": [
    {
      "cell_type": "markdown",
      "metadata": {
        "id": "view-in-github",
        "colab_type": "text"
      },
      "source": [
        "<a href=\"https://colab.research.google.com/github/MizanMustakim/big_data_processing_final_project/blob/Mizan/DataAcquisition.ipynb\" target=\"_parent\"><img src=\"https://colab.research.google.com/assets/colab-badge.svg\" alt=\"Open In Colab\"/></a>"
      ]
    },
    {
      "cell_type": "code",
      "source": [
        "from google.colab import drive\n",
        "drive.mount('/content/drive')"
      ],
      "metadata": {
        "id": "9bkXxC9bDniA",
        "colab": {
          "base_uri": "https://localhost:8080/"
        },
        "outputId": "bc9502b0-84d1-44d6-f3b4-0ad9d41bbeea"
      },
      "execution_count": 1,
      "outputs": [
        {
          "output_type": "stream",
          "name": "stdout",
          "text": [
            "Mounted at /content/drive\n"
          ]
        }
      ]
    },
    {
      "cell_type": "code",
      "source": [
        "!pip install pyspark\n",
        "!pip install sparknlp"
      ],
      "metadata": {
        "colab": {
          "base_uri": "https://localhost:8080/"
        },
        "id": "UZnkiCttXk1w",
        "outputId": "acc036a2-53b8-45c5-cebe-7f8ef5e72140"
      },
      "execution_count": 2,
      "outputs": [
        {
          "output_type": "stream",
          "name": "stdout",
          "text": [
            "Looking in indexes: https://pypi.org/simple, https://us-python.pkg.dev/colab-wheels/public/simple/\n",
            "Collecting pyspark\n",
            "  Downloading pyspark-3.2.1.tar.gz (281.4 MB)\n",
            "\u001b[K     |████████████████████████████████| 281.4 MB 37 kB/s \n",
            "\u001b[?25hCollecting py4j==0.10.9.3\n",
            "  Downloading py4j-0.10.9.3-py2.py3-none-any.whl (198 kB)\n",
            "\u001b[K     |████████████████████████████████| 198 kB 59.2 MB/s \n",
            "\u001b[?25hBuilding wheels for collected packages: pyspark\n",
            "  Building wheel for pyspark (setup.py) ... \u001b[?25l\u001b[?25hdone\n",
            "  Created wheel for pyspark: filename=pyspark-3.2.1-py2.py3-none-any.whl size=281853642 sha256=e5094e45dfe2cfe365f05fb7fcc7b758083ad57f9f36bbc4222e325068dcdf04\n",
            "  Stored in directory: /root/.cache/pip/wheels/9f/f5/07/7cd8017084dce4e93e84e92efd1e1d5334db05f2e83bcef74f\n",
            "Successfully built pyspark\n",
            "Installing collected packages: py4j, pyspark\n",
            "Successfully installed py4j-0.10.9.3 pyspark-3.2.1\n",
            "Looking in indexes: https://pypi.org/simple, https://us-python.pkg.dev/colab-wheels/public/simple/\n",
            "Collecting sparknlp\n",
            "  Downloading sparknlp-1.0.0-py3-none-any.whl (1.4 kB)\n",
            "Requirement already satisfied: numpy in /usr/local/lib/python3.7/dist-packages (from sparknlp) (1.21.6)\n",
            "Collecting spark-nlp\n",
            "  Downloading spark_nlp-3.4.4-py2.py3-none-any.whl (145 kB)\n",
            "\u001b[K     |████████████████████████████████| 145 kB 37.9 MB/s \n",
            "\u001b[?25hInstalling collected packages: spark-nlp, sparknlp\n",
            "Successfully installed spark-nlp-3.4.4 sparknlp-1.0.0\n"
          ]
        }
      ]
    },
    {
      "cell_type": "code",
      "execution_count": 3,
      "metadata": {
        "id": "yWi-LSoRFdUQ"
      },
      "outputs": [],
      "source": [
        "import sparknlp\n",
        "from pyspark.sql import SparkSession\n",
        "from sparknlp.base import *\n",
        "from sparknlp.annotator import *\n",
        "from pyspark.sql.functions import json_tuple\n",
        "from pyspark.sql.types import MapType,StringType,ArrayType,StructType,StructField\n",
        "from pyspark.sql.functions import *"
      ]
    },
    {
      "cell_type": "code",
      "execution_count": 4,
      "metadata": {
        "id": "BkKLpoqOEu0I",
        "colab": {
          "base_uri": "https://localhost:8080/"
        },
        "outputId": "646fc001-2ea8-4720-981c-31d097fd141e"
      },
      "outputs": [
        {
          "output_type": "stream",
          "name": "stdout",
          "text": [
            "Spark NLP version: 3.4.4\n",
            "Apache Spark version: 3.2.1\n"
          ]
        }
      ],
      "source": [
        "# Checking the versions of pyspark and sparknlp\n",
        "\n",
        "spark = SparkSession.builder \\\n",
        "    .master(\"local\") \\\n",
        "    .appName(\"Proj\") \\\n",
        "    .config(\"spark.sql.warehouse.dir\")\\\n",
        "    .getOrCreate()\n",
        "print(\"Spark NLP version: {}\".format(sparknlp.version()))\n",
        "print(\"Apache Spark version: {}\".format(spark.version))"
      ]
    },
    {
      "cell_type": "code",
      "execution_count": 5,
      "metadata": {
        "id": "RunSA2uFSkCr"
      },
      "outputs": [],
      "source": [
        "# load the files to a data frame\n",
        "# select only the fearures needed:\n",
        "# paper_id, metadata\n",
        "df = spark.read.option(\"multiline\",\"true\")\\\n",
        "          .json(\"/content/drive/MyDrive/pdf_json\")\\\n",
        "          .select('paper_id','metadata')"
      ]
    },
    {
      "cell_type": "code",
      "execution_count": 6,
      "metadata": {
        "id": "X3XsjYTB48-I",
        "colab": {
          "base_uri": "https://localhost:8080/"
        },
        "outputId": "fa36dfe7-b684-46ec-d778-b8eed6158ec0"
      },
      "outputs": [
        {
          "output_type": "stream",
          "name": "stdout",
          "text": [
            "root\n",
            " |-- paper_id: string (nullable = true)\n",
            " |-- metadata: struct (nullable = true)\n",
            " |    |-- authors: array (nullable = true)\n",
            " |    |    |-- element: struct (containsNull = true)\n",
            " |    |    |    |-- affiliation: struct (nullable = true)\n",
            " |    |    |    |    |-- institution: string (nullable = true)\n",
            " |    |    |    |    |-- laboratory: string (nullable = true)\n",
            " |    |    |    |    |-- location: struct (nullable = true)\n",
            " |    |    |    |    |    |-- addrLine: string (nullable = true)\n",
            " |    |    |    |    |    |-- country: string (nullable = true)\n",
            " |    |    |    |    |    |-- postBox: string (nullable = true)\n",
            " |    |    |    |    |    |-- postCode: string (nullable = true)\n",
            " |    |    |    |    |    |-- region: string (nullable = true)\n",
            " |    |    |    |    |    |-- settlement: string (nullable = true)\n",
            " |    |    |    |-- email: string (nullable = true)\n",
            " |    |    |    |-- first: string (nullable = true)\n",
            " |    |    |    |-- last: string (nullable = true)\n",
            " |    |    |    |-- middle: array (nullable = true)\n",
            " |    |    |    |    |-- element: string (containsNull = true)\n",
            " |    |    |    |-- suffix: string (nullable = true)\n",
            " |    |-- title: string (nullable = true)\n",
            "\n"
          ]
        }
      ],
      "source": [
        "# the data frame's schema\n",
        "df.printSchema()"
      ]
    },
    {
      "cell_type": "code",
      "execution_count": 7,
      "metadata": {
        "id": "0TOYSope5maM",
        "colab": {
          "base_uri": "https://localhost:8080/"
        },
        "outputId": "3706662c-18a1-42fa-8f22-58cfd93338c1"
      },
      "outputs": [
        {
          "output_type": "stream",
          "name": "stdout",
          "text": [
            "+--------------------+--------------------+--------------------+\n",
            "|            paper_id|             authors|               title|\n",
            "+--------------------+--------------------+--------------------+\n",
            "|2c4cd65b373b8524d...|                  []|2 Lexikalischer H...|\n",
            "|2b1cbb43a4f06e232...|[{{null, null, nu...|Level 3 guideline...|\n",
            "|1faae7ce711b362a2...|                  []|                    |\n",
            "|2bfe70ed52c64f411...|[{{University of ...|PA03 -Pattern Rec...|\n",
            "|2a37e35929251d28d...|                  []|Protocol Protocol...|\n",
            "|2bf80b20f4f497112...|[{{null, null, nu...|Oral Presentation...|\n",
            "|2cf6a96f9b5336b13...|[{{Swinburne Univ...|Blood Pressure Se...|\n",
            "|2ea7d915eb6c38431...|[{{null, null, nu...|Band 161 · Supple...|\n",
            "|02cf6f1572731d9b3...|[{{null, null, nu...|                    |\n",
            "|1f63075aa219ae291...|[{{null, null, nu...|P1 Cerebral autor...|\n",
            "|02e359329ec030452...|[{{null, null, nu...|The 15th Congress...|\n",
            "|2cf63588b20274781...|[{{null, null, nu...|                    |\n",
            "|2e9f02301be41d902...|[{{null, null, nu...|Indian Society of...|\n",
            "|2e2bc679c8393230b...|[{{Kanazawa Unive...|P1 Comparison of ...|\n",
            "|2ade90896f12455bc...|[{{null, null, nu...|A novel definitio...|\n",
            "|2b37ccf879313fbc9...|[{{University of ...|pathogens A Syste...|\n",
            "|2bebffde1c9a55b8e...|[{{Princess Marga...|Severe Acute Resp...|\n",
            "|1ea780d0177aff8b5...|[{{University of ...|antioxidants Func...|\n",
            "|2c8fdac6cc46f329d...|                  []|                    |\n",
            "|2d6de201bde358129...|[{{null, null, nu...|Postgraduate Cour...|\n",
            "+--------------------+--------------------+--------------------+\n",
            "only showing top 20 rows\n",
            "\n"
          ]
        }
      ],
      "source": [
        "# brief preview of the original data frame data before flattening\n",
        "df.select('paper_id','metadata.*').show()"
      ]
    },
    {
      "cell_type": "code",
      "execution_count": 8,
      "metadata": {
        "id": "Dixe38sY_50F"
      },
      "outputs": [],
      "source": [
        "# extract the elements of the authors from array to a single element entries\n",
        "df2=df.select('paper_id',col('metadata.title').alias('title'),\\\n",
        "              explode('metadata.authors').alias('author'))"
      ]
    },
    {
      "cell_type": "code",
      "execution_count": 9,
      "metadata": {
        "id": "cgtY7TjvBmj1",
        "colab": {
          "base_uri": "https://localhost:8080/"
        },
        "outputId": "e07314d4-6d20-4de9-d4b0-4f6fb7e1cf62"
      },
      "outputs": [
        {
          "output_type": "stream",
          "name": "stdout",
          "text": [
            "root\n",
            " |-- paper_id: string (nullable = true)\n",
            " |-- title: string (nullable = true)\n",
            " |-- author: struct (nullable = true)\n",
            " |    |-- affiliation: struct (nullable = true)\n",
            " |    |    |-- institution: string (nullable = true)\n",
            " |    |    |-- laboratory: string (nullable = true)\n",
            " |    |    |-- location: struct (nullable = true)\n",
            " |    |    |    |-- addrLine: string (nullable = true)\n",
            " |    |    |    |-- country: string (nullable = true)\n",
            " |    |    |    |-- postBox: string (nullable = true)\n",
            " |    |    |    |-- postCode: string (nullable = true)\n",
            " |    |    |    |-- region: string (nullable = true)\n",
            " |    |    |    |-- settlement: string (nullable = true)\n",
            " |    |-- email: string (nullable = true)\n",
            " |    |-- first: string (nullable = true)\n",
            " |    |-- last: string (nullable = true)\n",
            " |    |-- middle: array (nullable = true)\n",
            " |    |    |-- element: string (containsNull = true)\n",
            " |    |-- suffix: string (nullable = true)\n",
            "\n"
          ]
        }
      ],
      "source": [
        "# the new data frame schema does not have an array field\n",
        "df2.printSchema()"
      ]
    },
    {
      "cell_type": "code",
      "execution_count": 10,
      "metadata": {
        "id": "Xe0iF8lqFKtV"
      },
      "outputs": [],
      "source": [
        "# flatten the data frame\n",
        "# drop the original rows and a few useless features \n",
        "final_df=df2.select('*','author.*')\\\n",
        ".select('*','affiliation.*')\\\n",
        ".select('*','location.*')\\\n",
        ".drop('affiliation').drop('location')\\\n",
        ".drop('postBox').drop('author')\\\n",
        ".drop('middle').drop('suffix')\\"
      ]
    },
    {
      "cell_type": "code",
      "execution_count": 11,
      "metadata": {
        "id": "b_0e_pEOqoXa"
      },
      "outputs": [],
      "source": [
        "# concat the first and last name to a single feature\n",
        "final_df=final_df.select('*',concat(col('first'),lit(' '),col('last')).alias('name'))\\\n",
        "       .drop('first').drop('last')"
      ]
    },
    {
      "cell_type": "code",
      "execution_count": 12,
      "metadata": {
        "id": "AVZoF-LCv-Zz"
      },
      "outputs": [],
      "source": [
        "# replace the empty fields with null\n",
        "final_df=final_df.na.replace('',None)"
      ]
    },
    {
      "cell_type": "code",
      "execution_count": 13,
      "metadata": {
        "id": "49J5TJV41mvL"
      },
      "outputs": [],
      "source": [
        "# remove the dublicate rows\n",
        "final_df=final_df.distinct()"
      ]
    },
    {
      "cell_type": "code",
      "execution_count": 14,
      "metadata": {
        "id": "dbmKSIkEkD37"
      },
      "outputs": [],
      "source": [
        "#sort by paper_id\n",
        "final_df=final_df.sort('paper_id')"
      ]
    },
    {
      "cell_type": "code",
      "execution_count": 15,
      "metadata": {
        "id": "vp8zvHDakD38"
      },
      "outputs": [],
      "source": [
        "# combine rows, which are not identical, but has the same\n",
        "# paper_id and name and are missing data\n",
        "final_df = final_df.groupBy(\"paper_id\", \"name\")\\\n",
        "        .agg(last('email',True).alias('email'),\n",
        "            last('title',True).alias( 'title'),\n",
        "            last('institution',True).alias( 'institution'),\n",
        "            last('laboratory',True).alias( 'laboratory'),\n",
        "            last('addrLine',True).alias( 'addrLine'),\n",
        "            last('country',True).alias( 'country'),\n",
        "            last('postCode',True).alias( 'postCode'),\n",
        "            last('region',True).alias( 'region'),\n",
        "            last('settlement',True).alias( 'settlement'),\n",
        "            )"
      ]
    },
    {
      "cell_type": "code",
      "execution_count": 16,
      "metadata": {
        "id": "QKAqU_7Vj_ZF",
        "colab": {
          "base_uri": "https://localhost:8080/"
        },
        "outputId": "cdfcccab-e4e2-4f56-cbef-dcab098116dd"
      },
      "outputs": [
        {
          "output_type": "stream",
          "name": "stdout",
          "text": [
            "root\n",
            " |-- paper_id: string (nullable = true)\n",
            " |-- name: string (nullable = true)\n",
            " |-- email: string (nullable = true)\n",
            " |-- title: string (nullable = true)\n",
            " |-- institution: string (nullable = true)\n",
            " |-- laboratory: string (nullable = true)\n",
            " |-- addrLine: string (nullable = true)\n",
            " |-- country: string (nullable = true)\n",
            " |-- postCode: string (nullable = true)\n",
            " |-- region: string (nullable = true)\n",
            " |-- settlement: string (nullable = true)\n",
            "\n"
          ]
        }
      ],
      "source": [
        "# the final data frame schema\n",
        "final_df.printSchema()"
      ]
    },
    {
      "cell_type": "code",
      "execution_count": 17,
      "metadata": {
        "id": "gcXzJnXyFOb2",
        "colab": {
          "base_uri": "https://localhost:8080/"
        },
        "outputId": "43b24fd9-45d3-41f5-9fed-5051eeb29610"
      },
      "outputs": [
        {
          "output_type": "stream",
          "name": "stdout",
          "text": [
            "+--------------------+--------------------+--------------------+--------------------+--------------------+--------------------+--------------------+-----------+--------+--------+--------------------+\n",
            "|            paper_id|                name|               email|               title|         institution|          laboratory|            addrLine|    country|postCode|  region|          settlement|\n",
            "+--------------------+--------------------+--------------------+--------------------+--------------------+--------------------+--------------------+-----------+--------+--------+--------------------+\n",
            "|0000b6da665726420...|             Alex Ba|                null|The cell phone vi...|Uniformed Service...|                null|                null|        USA|    null|Maryland|            Bethesda|\n",
            "|0000b6da665726420...|    Anthony Tolisano|anthony.m.tolisan...|The cell phone vi...|Walter Reed Natio...|                null|                null|        USA|    null|Maryland|            Bethesda|\n",
            "|0000b6da665726420...|       Charles Riley|                null|The cell phone vi...|Walter Reed Natio...|                null|                null|        USA|    null|Maryland|            Bethesda|\n",
            "|0000b6da665726420...|             J Lewis|                null|The cell phone vi...|Walter Reed Natio...|                null|                null|        USA|    null|Maryland|            Bethesda|\n",
            "|0000b6da665726420...|         Nora Watson|                null|The cell phone vi...|Walter Reed Natio...|                null|                null|        USA|    null|Maryland|            Bethesda|\n",
            "|0000b6da665726420...|            | Robert|                null|The cell phone vi...|                null|                null|                null|       null|    null|    null|                null|\n",
            "|002a04d0269525df0...|      Irwan Samsudin|irwansamsudin@uit...|Synthesis, Charac...|Universiti Teknol...|                null|Sungai Buloh Camp...|   Malaysia|    null|    null|                null|\n",
            "|002a04d0269525df0...|                  M |                null|Synthesis, Charac...|                null|                null|                null|       null|    null|    null|                null|\n",
            "|002a04d0269525df0...|          Mohd Mahat|                null|Synthesis, Charac...|Universiti Teknol...|                null|                null|   Malaysia|   40450|    null|           Shah Alam|\n",
            "|002a04d0269525df0...|         Mohd Razali|                null|Synthesis, Charac...|Universiti Teknol...|                null|Sungai Buloh Camp...|   Malaysia|    null|    null|                null|\n",
            "|002a04d0269525df0...|  Muhammad Abid Amir|                null|Synthesis, Charac...|Universiti Teknol...|                null|Sungai Buloh Camp...|   Malaysia|    null|    null|                null|\n",
            "|002a04d0269525df0...|Muhammad Faiz Aiz...|faizaizamddin@gma...|Synthesis, Charac...|Universiti Teknol...|                null|                null|   Malaysia|   40450|    null|           Shah Alam|\n",
            "|002a04d0269525df0...|    Muhammad Syafiek|                null|Synthesis, Charac...|                null|                null|                null|       null|    null|    null|                null|\n",
            "|002a04d0269525df0...|Zaidah Zainal Ari...|                null|Synthesis, Charac...|Universiti Teknol...|                null|                null|   Malaysia|   40450|    null|           Shah Alam|\n",
            "|002a26a0e2dd3871b...|       Claudius Gros|                null|When to end a loc...|   Goethe University|                null|                null|    Germany|    null|    null|Frankfurt, Frankf...|\n",
            "|002a26a0e2dd3871b...|         Daniel Gros|     danielg@ceps.eu|When to end a loc...|                null|CEPS (Centre for ...|                null|    Belgium|    null|    null|            Brussels|\n",
            "|002a26a0e2dd3871b...|    Thomas Czypionka|                null|When to end a loc...|                null|                null|                null|       null|    null|    null|                null|\n",
            "|002a65554248949dd...|     Axel Timmermann|                null|East Asian climat...|Institute for Bas...|                null|                null|South Korea|    null|    null|               Busan|\n",
            "|002a65554248949dd...|      Eui-Seok Chung|                null|East Asian climat...|Institute for Bas...|                null|                null|South Korea|    null|    null|               Busan|\n",
            "|002a65554248949dd...|         June-Yi Lee|                null|East Asian climat...|Institute for Bas...|                null|                null|South Korea|    null|    null|               Busan|\n",
            "+--------------------+--------------------+--------------------+--------------------+--------------------+--------------------+--------------------+-----------+--------+--------+--------------------+\n",
            "only showing top 20 rows\n",
            "\n"
          ]
        }
      ],
      "source": [
        "# data frame data preview\n",
        "final_df.show()"
      ]
    },
    {
      "cell_type": "code",
      "execution_count": 18,
      "metadata": {
        "id": "uMv7-ljqsMSk"
      },
      "outputs": [],
      "source": [
        "# number of people researching a paper by institution \n",
        "institutions = final_df.groupBy(['paper_id','institution']).count()\\\n",
        "                  .na.drop(how='any')\\\n",
        "                  .sort(desc('count'))"
      ]
    },
    {
      "cell_type": "code",
      "execution_count": 19,
      "metadata": {
        "id": "JdVOE4PwyQqG",
        "colab": {
          "base_uri": "https://localhost:8080/"
        },
        "outputId": "561e5bc2-6680-4f0c-ff48-0755c6866fc6"
      },
      "outputs": [
        {
          "output_type": "stream",
          "name": "stdout",
          "text": [
            "+--------------------+--------------------+-----+\n",
            "|            paper_id|         institution|count|\n",
            "+--------------------+--------------------+-----+\n",
            "|2b06dda25000e6085...|I, Calvo AO, Gall...|  129|\n",
            "|002b2e094126e78ea...|Harvard Medical S...|   64|\n",
            "|2a155491b04182a59...|Imperial College ...|   48|\n",
            "|2cb5497c065e3c1ef...|Leiden University...|   46|\n",
            "|2d09cf04f003ed93e...|Aristotle Univers...|   41|\n",
            "|2bfe70ed52c64f411...|University of Not...|   41|\n",
            "|2cf60380bb05becd1...|Virginia Polytech...|   37|\n",
            "|2ec268221c21259c0...|OpenSAFELY Collab...|   37|\n",
            "|1e04601589c695728...|University of Pen...|   36|\n",
            "|2da484bab5fea1c1e...|Azienda Ospedalie...|   32|\n",
            "|2d5498a8adecb9440...|Hospital Clinic o...|   32|\n",
            "|1e79d1c817213e5f7...|University of Pen...|   32|\n",
            "|2bc16fdd79243daa5...|Imperial College ...|   31|\n",
            "|02d6132a22879e828...|Nanogen Biopharma...|   30|\n",
            "|2aed363d02c801222...|National Institut...|   30|\n",
            "|2d677e610aa84b54b...|University of Liv...|   30|\n",
            "|2da3afb5392440668...|       James Chodosh|   30|\n",
            "|1f2f3a95087f10952...|University Medica...|   29|\n",
            "|1e3e669dcd9b8887a...|Instituto de Card...|   29|\n",
            "|2cabc8217e21c56c8...|University of Was...|   29|\n",
            "+--------------------+--------------------+-----+\n",
            "only showing top 20 rows\n",
            "\n"
          ]
        }
      ],
      "source": [
        "institutions.show()"
      ]
    },
    {
      "cell_type": "code",
      "source": [
        "# The number of total rows of this dataframe\n",
        "institutions.count()"
      ],
      "metadata": {
        "colab": {
          "base_uri": "https://localhost:8080/"
        },
        "id": "F8ZmKUx6Evmi",
        "outputId": "9c5f582d-f4b6-455a-d976-97d60cec144a"
      },
      "execution_count": 20,
      "outputs": [
        {
          "output_type": "execute_result",
          "data": {
            "text/plain": [
              "14556"
            ]
          },
          "metadata": {},
          "execution_count": 20
        }
      ]
    },
    {
      "cell_type": "code",
      "execution_count": 22,
      "metadata": {
        "id": "Jmd0bsfxu0Pt"
      },
      "outputs": [],
      "source": [
        "# put the df into pandas and export it into a single file for our purpoces\n",
        "institutions.toPandas().to_csv('/content/drive/MyDrive/processed_data/institutions.csv',index=False)"
      ]
    },
    {
      "cell_type": "code",
      "execution_count": 23,
      "metadata": {
        "id": "qCZsiqtCkD4B"
      },
      "outputs": [],
      "source": [
        "# map all the researchers participated  in covid research\n",
        "# and the amount of papers they took part of\n",
        "researchers =final_df.groupBy(['name']).count()\\\n",
        "                  .na.drop(how='any')\\\n",
        "                  .sort(desc('count'))"
      ]
    },
    {
      "cell_type": "code",
      "execution_count": 24,
      "metadata": {
        "id": "aAsXWlu3kD4B",
        "colab": {
          "base_uri": "https://localhost:8080/"
        },
        "outputId": "1172502a-dc6b-42cd-af5e-375ae5eb38c2"
      },
      "outputs": [
        {
          "output_type": "stream",
          "name": "stdout",
          "text": [
            "+------+-----+\n",
            "|  name|count|\n",
            "+------+-----+\n",
            "|    † |  202|\n",
            "|    M |  101|\n",
            "|    J |   58|\n",
            "|    A |   46|\n",
            "|    Y |   45|\n",
            "| Wang |   44|\n",
            "|Zhang |   38|\n",
            "|    D |   36|\n",
            "| Chen |   35|\n",
            "|    S |   34|\n",
            "|    W |   32|\n",
            "|    C |   29|\n",
            "|    B |   29|\n",
            "|    E |   27|\n",
            "|    R |   26|\n",
            "|    ; |   25|\n",
            "|    ‡ |   24|\n",
            "|    ✉ |   24|\n",
            "| Zhou |   23|\n",
            "| Zhao |   23|\n",
            "+------+-----+\n",
            "only showing top 20 rows\n",
            "\n"
          ]
        }
      ],
      "source": [
        "# Showing the preview of the researchers dataframe\n",
        "researchers.show()"
      ]
    },
    {
      "cell_type": "code",
      "source": [
        "# The number of total rows of this researchers dataframe\n",
        "researchers.count()"
      ],
      "metadata": {
        "colab": {
          "base_uri": "https://localhost:8080/"
        },
        "id": "Hd6F_gCBFdIB",
        "outputId": "e15be290-8e23-4b86-f50c-3026a376a75a"
      },
      "execution_count": 25,
      "outputs": [
        {
          "output_type": "execute_result",
          "data": {
            "text/plain": [
              "69181"
            ]
          },
          "metadata": {},
          "execution_count": 25
        }
      ]
    },
    {
      "cell_type": "code",
      "execution_count": 26,
      "metadata": {
        "id": "1woc_D9LkD4C"
      },
      "outputs": [],
      "source": [
        "# put the df into pandas and export it into a single file for our purpoces\n",
        "researchers.toPandas().to_csv('/content/drive/MyDrive/processed_data/researchers.csv',index=False)"
      ]
    },
    {
      "cell_type": "code",
      "execution_count": 27,
      "metadata": {
        "id": "CTAxdtK2kD4C"
      },
      "outputs": [],
      "source": [
        "# researchers by country\n",
        "countries=final_df.groupBy(['country']).count()\\\n",
        "                  .na.drop(how='any')\\\n",
        "                  .sort(desc('count'))"
      ]
    },
    {
      "cell_type": "code",
      "execution_count": 28,
      "metadata": {
        "id": "mi2vmf_RkD4D",
        "colab": {
          "base_uri": "https://localhost:8080/"
        },
        "outputId": "59965d07-eebd-4579-f3d6-3d319bb8fac3"
      },
      "outputs": [
        {
          "output_type": "stream",
          "name": "stdout",
          "text": [
            "+--------------------+-----+\n",
            "|             country|count|\n",
            "+--------------------+-----+\n",
            "|                 USA| 5656|\n",
            "|               China| 3645|\n",
            "|               Italy| 2444|\n",
            "|                  UK| 1985|\n",
            "|             Germany| 1377|\n",
            "|              France| 1076|\n",
            "|               Spain| 1025|\n",
            "|               Japan| 1013|\n",
            "|               India|  932|\n",
            "|              Canada|  909|\n",
            "|              Brazil|  874|\n",
            "|           Australia|  805|\n",
            "|                Iran|  663|\n",
            "|      United Kingdom|  639|\n",
            "|       United States|  634|\n",
            "|United States of ...|  392|\n",
            "|             Belgium|  387|\n",
            "|         Switzerland|  379|\n",
            "|              Taiwan|  356|\n",
            "|     The Netherlands|  352|\n",
            "+--------------------+-----+\n",
            "only showing top 20 rows\n",
            "\n"
          ]
        }
      ],
      "source": [
        "# Showing the preview of the countries dataframe\n",
        "countries.show()"
      ]
    },
    {
      "cell_type": "code",
      "source": [
        "# The number of total rows of this countries dataframe\n",
        "countries.count()"
      ],
      "metadata": {
        "colab": {
          "base_uri": "https://localhost:8080/"
        },
        "id": "oDoFi51ZGVab",
        "outputId": "cc30469f-8c14-4a21-83e5-238c3e4b96ba"
      },
      "execution_count": 29,
      "outputs": [
        {
          "output_type": "execute_result",
          "data": {
            "text/plain": [
              "634"
            ]
          },
          "metadata": {},
          "execution_count": 29
        }
      ]
    },
    {
      "cell_type": "code",
      "execution_count": 30,
      "metadata": {
        "id": "jO3aSxQ7zTfW"
      },
      "outputs": [],
      "source": [
        "# put the df into pandas and export it into a single file for our purpoces\n",
        "countries.toPandas().to_csv('/content/drive/MyDrive/processed_data/countries.csv',index=False)"
      ]
    },
    {
      "cell_type": "code",
      "execution_count": null,
      "metadata": {
        "id": "Zw28cIiakD4D"
      },
      "outputs": [],
      "source": [
        ""
      ]
    }
  ],
  "metadata": {
    "accelerator": "GPU",
    "colab": {
      "collapsed_sections": [],
      "name": "DataAcquisition.ipynb",
      "provenance": [],
      "include_colab_link": true
    },
    "kernelspec": {
      "display_name": "Python 3",
      "language": "python",
      "name": "python3"
    },
    "language_info": {
      "codemirror_mode": {
        "name": "ipython",
        "version": 3
      },
      "file_extension": ".py",
      "mimetype": "text/x-python",
      "name": "python",
      "nbconvert_exporter": "python",
      "pygments_lexer": "ipython3",
      "version": "3.7.6"
    }
  },
  "nbformat": 4,
  "nbformat_minor": 0
}