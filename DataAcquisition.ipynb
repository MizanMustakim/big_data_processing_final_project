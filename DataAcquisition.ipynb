{
  "cells": [
    {
      "cell_type": "markdown",
      "metadata": {
        "id": "view-in-github",
        "colab_type": "text"
      },
      "source": [
        "<a href=\"https://colab.research.google.com/github/MizanMustakim/big_data_processing_final_project/blob/Mizan/DataAcquisition.ipynb\" target=\"_parent\"><img src=\"https://colab.research.google.com/assets/colab-badge.svg\" alt=\"Open In Colab\"/></a>"
      ]
    },
    {
      "cell_type": "code",
      "source": [
        "from google.colab import drive\n",
        "drive.mount('/content/drive')"
      ],
      "metadata": {
        "id": "9bkXxC9bDniA",
        "colab": {
          "base_uri": "https://localhost:8080/"
        },
        "outputId": "5823f261-f9b6-49c4-9127-091dfc94c71e"
      },
      "execution_count": 1,
      "outputs": [
        {
          "output_type": "stream",
          "name": "stdout",
          "text": [
            "Mounted at /content/drive\n"
          ]
        }
      ]
    },
    {
      "cell_type": "code",
      "source": [
        "!pip install pyspark\n",
        "!pip install sparknlp"
      ],
      "metadata": {
        "colab": {
          "base_uri": "https://localhost:8080/"
        },
        "id": "UZnkiCttXk1w",
        "outputId": "a3ac51cf-b186-4a3c-f06e-1e19ca2fabfb"
      },
      "execution_count": 4,
      "outputs": [
        {
          "output_type": "stream",
          "name": "stdout",
          "text": [
            "Looking in indexes: https://pypi.org/simple, https://us-python.pkg.dev/colab-wheels/public/simple/\n",
            "Collecting pyspark\n",
            "  Downloading pyspark-3.2.1.tar.gz (281.4 MB)\n",
            "\u001b[K     |████████████████████████████████| 281.4 MB 28 kB/s \n",
            "\u001b[?25hCollecting py4j==0.10.9.3\n",
            "  Downloading py4j-0.10.9.3-py2.py3-none-any.whl (198 kB)\n",
            "\u001b[K     |████████████████████████████████| 198 kB 59.9 MB/s \n",
            "\u001b[?25hBuilding wheels for collected packages: pyspark\n",
            "  Building wheel for pyspark (setup.py) ... \u001b[?25l\u001b[?25hdone\n",
            "  Created wheel for pyspark: filename=pyspark-3.2.1-py2.py3-none-any.whl size=281853642 sha256=42e6f37dfbe88b6af5f952889472312b3316e22556d2b92dea033b7804cfe60b\n",
            "  Stored in directory: /root/.cache/pip/wheels/9f/f5/07/7cd8017084dce4e93e84e92efd1e1d5334db05f2e83bcef74f\n",
            "Successfully built pyspark\n",
            "Installing collected packages: py4j, pyspark\n",
            "Successfully installed py4j-0.10.9.3 pyspark-3.2.1\n",
            "Looking in indexes: https://pypi.org/simple, https://us-python.pkg.dev/colab-wheels/public/simple/\n",
            "Requirement already satisfied: sparknlp in /usr/local/lib/python3.7/dist-packages (1.0.0)\n",
            "Requirement already satisfied: numpy in /usr/local/lib/python3.7/dist-packages (from sparknlp) (1.21.6)\n",
            "Requirement already satisfied: spark-nlp in /usr/local/lib/python3.7/dist-packages (from sparknlp) (3.4.4)\n"
          ]
        }
      ]
    },
    {
      "cell_type": "code",
      "execution_count": 5,
      "metadata": {
        "id": "yWi-LSoRFdUQ"
      },
      "outputs": [],
      "source": [
        "import sparknlp\n",
        "from pyspark.sql import SparkSession\n",
        "from sparknlp.base import *\n",
        "from sparknlp.annotator import *\n",
        "from pyspark.sql.functions import json_tuple\n",
        "from pyspark.sql.types import MapType,StringType,ArrayType,StructType,StructField\n",
        "from pyspark.sql.functions import *"
      ]
    },
    {
      "cell_type": "code",
      "execution_count": 6,
      "metadata": {
        "id": "BkKLpoqOEu0I",
        "colab": {
          "base_uri": "https://localhost:8080/"
        },
        "outputId": "ba30e728-9b83-4c95-b709-c2dabd5d1a2f"
      },
      "outputs": [
        {
          "output_type": "stream",
          "name": "stdout",
          "text": [
            "Spark NLP version: 3.4.4\n",
            "Apache Spark version: 3.2.1\n"
          ]
        }
      ],
      "source": [
        "# Checking the versions of pyspark and sparknlp\n",
        "\n",
        "spark = SparkSession.builder \\\n",
        "    .master(\"local\") \\\n",
        "    .appName(\"Proj\") \\\n",
        "    .config(\"spark.sql.warehouse.dir\")\\\n",
        "    .getOrCreate()\n",
        "print(\"Spark NLP version: {}\".format(sparknlp.version()))\n",
        "print(\"Apache Spark version: {}\".format(spark.version))"
      ]
    },
    {
      "cell_type": "code",
      "execution_count": 7,
      "metadata": {
        "id": "RunSA2uFSkCr"
      },
      "outputs": [],
      "source": [
        "# load the files to a data frame\n",
        "# select only the fearures needed:\n",
        "# paper_id, metadata\n",
        "df = spark.read.option(\"multiline\",\"true\")\\\n",
        "          .json(\"/content/drive/MyDrive/pdf_json\")\\\n",
        "          .select('paper_id','metadata')"
      ]
    },
    {
      "cell_type": "code",
      "execution_count": 8,
      "metadata": {
        "id": "X3XsjYTB48-I",
        "colab": {
          "base_uri": "https://localhost:8080/"
        },
        "outputId": "64ece42f-c426-4bfa-f7b2-81e3345dee7f"
      },
      "outputs": [
        {
          "output_type": "stream",
          "name": "stdout",
          "text": [
            "root\n",
            " |-- paper_id: string (nullable = true)\n",
            " |-- metadata: struct (nullable = true)\n",
            " |    |-- authors: array (nullable = true)\n",
            " |    |    |-- element: struct (containsNull = true)\n",
            " |    |    |    |-- affiliation: struct (nullable = true)\n",
            " |    |    |    |    |-- institution: string (nullable = true)\n",
            " |    |    |    |    |-- laboratory: string (nullable = true)\n",
            " |    |    |    |    |-- location: struct (nullable = true)\n",
            " |    |    |    |    |    |-- addrLine: string (nullable = true)\n",
            " |    |    |    |    |    |-- country: string (nullable = true)\n",
            " |    |    |    |    |    |-- postBox: string (nullable = true)\n",
            " |    |    |    |    |    |-- postCode: string (nullable = true)\n",
            " |    |    |    |    |    |-- region: string (nullable = true)\n",
            " |    |    |    |    |    |-- settlement: string (nullable = true)\n",
            " |    |    |    |-- email: string (nullable = true)\n",
            " |    |    |    |-- first: string (nullable = true)\n",
            " |    |    |    |-- last: string (nullable = true)\n",
            " |    |    |    |-- middle: array (nullable = true)\n",
            " |    |    |    |    |-- element: string (containsNull = true)\n",
            " |    |    |    |-- suffix: string (nullable = true)\n",
            " |    |-- title: string (nullable = true)\n",
            "\n"
          ]
        }
      ],
      "source": [
        "# the data frame's schema\n",
        "df.printSchema()"
      ]
    },
    {
      "cell_type": "code",
      "execution_count": 9,
      "metadata": {
        "id": "0TOYSope5maM",
        "colab": {
          "base_uri": "https://localhost:8080/"
        },
        "outputId": "cf17a86f-5975-4391-bff2-7aadd4beb016"
      },
      "outputs": [
        {
          "output_type": "stream",
          "name": "stdout",
          "text": [
            "+--------------------+--------------------+--------------------+\n",
            "|            paper_id|             authors|               title|\n",
            "+--------------------+--------------------+--------------------+\n",
            "|dc0795b37b5378b1c...|[{{, Hematopoieti...|ABSTRACTS FROM TH...|\n",
            "|de6018b3043cdccd4...|[{{Stanford Unive...|Development/Novel...|\n",
            "|dc2f210539245c7a0...|[{{null, null, nu...|OR-01. Distinct R...|\n",
            "|2c4cd65b373b8524d...|                  []|2 Lexikalischer H...|\n",
            "|2b1cbb43a4f06e232...|[{{null, null, nu...|Level 3 guideline...|\n",
            "|1faae7ce711b362a2...|                  []|                    |\n",
            "|dc91dd2b0be757c23...|                  []|                    |\n",
            "|2bfe70ed52c64f411...|[{{University of ...|PA03 -Pattern Rec...|\n",
            "|dc6e18ee4dbe5ac14...|[{{null, null, nu...|SCIENTIFIC REPORT...|\n",
            "|2a37e35929251d28d...|                  []|Protocol Protocol...|\n",
            "|2bf80b20f4f497112...|[{{null, null, nu...|Oral Presentation...|\n",
            "|dcedc8ca7b10557df...|                  []|                    |\n",
            "|2cf6a96f9b5336b13...|[{{Swinburne Univ...|Blood Pressure Se...|\n",
            "|db7ecbb6e066fe455...|[{{null, null, nu...|Human Acute and C...|\n",
            "|2ea7d915eb6c38431...|[{{null, null, nu...|Band 161 · Supple...|\n",
            "|02cf6f1572731d9b3...|[{{null, null, nu...|                    |\n",
            "|1f63075aa219ae291...|[{{null, null, nu...|P1 Cerebral autor...|\n",
            "|dbd72b5ba77c2a2d2...|[{{null, null, nu...|Annual Symposium ...|\n",
            "|02e359329ec030452...|[{{null, null, nu...|The 15th Congress...|\n",
            "|2cf63588b20274781...|[{{null, null, nu...|                    |\n",
            "+--------------------+--------------------+--------------------+\n",
            "only showing top 20 rows\n",
            "\n"
          ]
        }
      ],
      "source": [
        "# brief preview of the original data frame data before flattening\n",
        "df.select('paper_id','metadata.*').show()"
      ]
    },
    {
      "cell_type": "code",
      "execution_count": 10,
      "metadata": {
        "id": "Dixe38sY_50F"
      },
      "outputs": [],
      "source": [
        "# extract the elements of the authors from array to a single element entries\n",
        "df2=df.select('paper_id',col('metadata.title').alias('title'),\\\n",
        "              explode('metadata.authors').alias('author'))"
      ]
    },
    {
      "cell_type": "code",
      "execution_count": 11,
      "metadata": {
        "id": "cgtY7TjvBmj1",
        "colab": {
          "base_uri": "https://localhost:8080/"
        },
        "outputId": "37273ecd-8037-4dbb-8add-14912a27571c"
      },
      "outputs": [
        {
          "output_type": "stream",
          "name": "stdout",
          "text": [
            "root\n",
            " |-- paper_id: string (nullable = true)\n",
            " |-- title: string (nullable = true)\n",
            " |-- author: struct (nullable = true)\n",
            " |    |-- affiliation: struct (nullable = true)\n",
            " |    |    |-- institution: string (nullable = true)\n",
            " |    |    |-- laboratory: string (nullable = true)\n",
            " |    |    |-- location: struct (nullable = true)\n",
            " |    |    |    |-- addrLine: string (nullable = true)\n",
            " |    |    |    |-- country: string (nullable = true)\n",
            " |    |    |    |-- postBox: string (nullable = true)\n",
            " |    |    |    |-- postCode: string (nullable = true)\n",
            " |    |    |    |-- region: string (nullable = true)\n",
            " |    |    |    |-- settlement: string (nullable = true)\n",
            " |    |-- email: string (nullable = true)\n",
            " |    |-- first: string (nullable = true)\n",
            " |    |-- last: string (nullable = true)\n",
            " |    |-- middle: array (nullable = true)\n",
            " |    |    |-- element: string (containsNull = true)\n",
            " |    |-- suffix: string (nullable = true)\n",
            "\n"
          ]
        }
      ],
      "source": [
        "# the new data frame schema does not have an array field\n",
        "df2.printSchema()"
      ]
    },
    {
      "cell_type": "code",
      "execution_count": 12,
      "metadata": {
        "id": "Xe0iF8lqFKtV"
      },
      "outputs": [],
      "source": [
        "# flatten the data frame\n",
        "# drop the original rows and a few useless features \n",
        "final_df=df2.select('*','author.*')\\\n",
        ".select('*','affiliation.*')\\\n",
        ".select('*','location.*')\\\n",
        ".drop('affiliation').drop('location')\\\n",
        ".drop('postBox').drop('author')\\\n",
        ".drop('middle').drop('suffix')\\"
      ]
    },
    {
      "cell_type": "code",
      "execution_count": 13,
      "metadata": {
        "id": "b_0e_pEOqoXa"
      },
      "outputs": [],
      "source": [
        "# concat the first and last name to a single feature\n",
        "final_df=final_df.select('*',concat(col('first'),lit(' '),col('last')).alias('name'))\\\n",
        "       .drop('first').drop('last')"
      ]
    },
    {
      "cell_type": "code",
      "execution_count": 14,
      "metadata": {
        "id": "AVZoF-LCv-Zz"
      },
      "outputs": [],
      "source": [
        "# replace the empty fields with null\n",
        "final_df=final_df.na.replace('',None)"
      ]
    },
    {
      "cell_type": "code",
      "execution_count": 15,
      "metadata": {
        "id": "49J5TJV41mvL"
      },
      "outputs": [],
      "source": [
        "# remove the dublicate rows\n",
        "final_df=final_df.distinct()"
      ]
    },
    {
      "cell_type": "code",
      "execution_count": 16,
      "metadata": {
        "id": "dbmKSIkEkD37"
      },
      "outputs": [],
      "source": [
        "#sort by paper_id\n",
        "final_df=final_df.sort('paper_id')"
      ]
    },
    {
      "cell_type": "code",
      "execution_count": 17,
      "metadata": {
        "id": "vp8zvHDakD38"
      },
      "outputs": [],
      "source": [
        "# combine rows, which are not identical, but has the same\n",
        "# paper_id and name and are missing data\n",
        "final_df = final_df.groupBy(\"paper_id\", \"name\")\\\n",
        "        .agg(last('email',True).alias('email'),\n",
        "            last('title',True).alias( 'title'),\n",
        "            last('institution',True).alias( 'institution'),\n",
        "            last('laboratory',True).alias( 'laboratory'),\n",
        "            last('addrLine',True).alias( 'addrLine'),\n",
        "            last('country',True).alias( 'country'),\n",
        "            last('postCode',True).alias( 'postCode'),\n",
        "            last('region',True).alias( 'region'),\n",
        "            last('settlement',True).alias( 'settlement'),\n",
        "            )"
      ]
    },
    {
      "cell_type": "code",
      "execution_count": 18,
      "metadata": {
        "id": "QKAqU_7Vj_ZF",
        "colab": {
          "base_uri": "https://localhost:8080/"
        },
        "outputId": "a7bae194-7dd1-4074-b3a9-ba9d7f682f3e"
      },
      "outputs": [
        {
          "output_type": "stream",
          "name": "stdout",
          "text": [
            "root\n",
            " |-- paper_id: string (nullable = true)\n",
            " |-- name: string (nullable = true)\n",
            " |-- email: string (nullable = true)\n",
            " |-- title: string (nullable = true)\n",
            " |-- institution: string (nullable = true)\n",
            " |-- laboratory: string (nullable = true)\n",
            " |-- addrLine: string (nullable = true)\n",
            " |-- country: string (nullable = true)\n",
            " |-- postCode: string (nullable = true)\n",
            " |-- region: string (nullable = true)\n",
            " |-- settlement: string (nullable = true)\n",
            "\n"
          ]
        }
      ],
      "source": [
        "# the final data frame schema\n",
        "final_df.printSchema()"
      ]
    },
    {
      "cell_type": "code",
      "execution_count": 19,
      "metadata": {
        "id": "gcXzJnXyFOb2",
        "colab": {
          "base_uri": "https://localhost:8080/"
        },
        "outputId": "19cd0b9f-b04d-45e1-f4d9-97583e84d700"
      },
      "outputs": [
        {
          "output_type": "stream",
          "name": "stdout",
          "text": [
            "+--------------------+--------------------+--------------------+--------------------+--------------------+--------------------+--------------------+-----------+--------+--------+--------------------+\n",
            "|            paper_id|                name|               email|               title|         institution|          laboratory|            addrLine|    country|postCode|  region|          settlement|\n",
            "+--------------------+--------------------+--------------------+--------------------+--------------------+--------------------+--------------------+-----------+--------+--------+--------------------+\n",
            "|0000b6da665726420...|             Alex Ba|                null|The cell phone vi...|Uniformed Service...|                null|                null|        USA|    null|Maryland|            Bethesda|\n",
            "|0000b6da665726420...|    Anthony Tolisano|anthony.m.tolisan...|The cell phone vi...|Walter Reed Natio...|                null|                null|        USA|    null|Maryland|            Bethesda|\n",
            "|0000b6da665726420...|       Charles Riley|                null|The cell phone vi...|Walter Reed Natio...|                null|                null|        USA|    null|Maryland|            Bethesda|\n",
            "|0000b6da665726420...|             J Lewis|                null|The cell phone vi...|Walter Reed Natio...|                null|                null|        USA|    null|Maryland|            Bethesda|\n",
            "|0000b6da665726420...|         Nora Watson|                null|The cell phone vi...|Walter Reed Natio...|                null|                null|        USA|    null|Maryland|            Bethesda|\n",
            "|0000b6da665726420...|            | Robert|                null|The cell phone vi...|                null|                null|                null|       null|    null|    null|                null|\n",
            "|002a04d0269525df0...|      Irwan Samsudin|irwansamsudin@uit...|Synthesis, Charac...|Universiti Teknol...|                null|Sungai Buloh Camp...|   Malaysia|    null|    null|                null|\n",
            "|002a04d0269525df0...|                  M |                null|Synthesis, Charac...|                null|                null|                null|       null|    null|    null|                null|\n",
            "|002a04d0269525df0...|          Mohd Mahat|                null|Synthesis, Charac...|Universiti Teknol...|                null|                null|   Malaysia|   40450|    null|           Shah Alam|\n",
            "|002a04d0269525df0...|         Mohd Razali|                null|Synthesis, Charac...|Universiti Teknol...|                null|Sungai Buloh Camp...|   Malaysia|    null|    null|                null|\n",
            "|002a04d0269525df0...|  Muhammad Abid Amir|                null|Synthesis, Charac...|Universiti Teknol...|                null|Sungai Buloh Camp...|   Malaysia|    null|    null|                null|\n",
            "|002a04d0269525df0...|Muhammad Faiz Aiz...|faizaizamddin@gma...|Synthesis, Charac...|Universiti Teknol...|                null|                null|   Malaysia|   40450|    null|           Shah Alam|\n",
            "|002a04d0269525df0...|    Muhammad Syafiek|                null|Synthesis, Charac...|                null|                null|                null|       null|    null|    null|                null|\n",
            "|002a04d0269525df0...|Zaidah Zainal Ari...|                null|Synthesis, Charac...|Universiti Teknol...|                null|                null|   Malaysia|   40450|    null|           Shah Alam|\n",
            "|002a26a0e2dd3871b...|       Claudius Gros|                null|When to end a loc...|   Goethe University|                null|                null|    Germany|    null|    null|Frankfurt, Frankf...|\n",
            "|002a26a0e2dd3871b...|         Daniel Gros|     danielg@ceps.eu|When to end a loc...|                null|CEPS (Centre for ...|                null|    Belgium|    null|    null|            Brussels|\n",
            "|002a26a0e2dd3871b...|    Thomas Czypionka|                null|When to end a loc...|                null|                null|                null|       null|    null|    null|                null|\n",
            "|002a65554248949dd...|     Axel Timmermann|                null|East Asian climat...|Institute for Bas...|                null|                null|South Korea|    null|    null|               Busan|\n",
            "|002a65554248949dd...|      Eui-Seok Chung|                null|East Asian climat...|Institute for Bas...|                null|                null|South Korea|    null|    null|               Busan|\n",
            "|002a65554248949dd...|         June-Yi Lee|                null|East Asian climat...|Institute for Bas...|                null|                null|South Korea|    null|    null|               Busan|\n",
            "+--------------------+--------------------+--------------------+--------------------+--------------------+--------------------+--------------------+-----------+--------+--------+--------------------+\n",
            "only showing top 20 rows\n",
            "\n"
          ]
        }
      ],
      "source": [
        "# data frame data preview\n",
        "final_df.show()"
      ]
    },
    {
      "cell_type": "code",
      "execution_count": 20,
      "metadata": {
        "id": "uMv7-ljqsMSk"
      },
      "outputs": [],
      "source": [
        "# number of people researching a paper by institution \n",
        "institutions = final_df.groupBy(['paper_id','institution']).count()\\\n",
        "                  .na.drop(how='any')\\\n",
        "                  .sort(desc('count'))"
      ]
    },
    {
      "cell_type": "code",
      "execution_count": 21,
      "metadata": {
        "id": "JdVOE4PwyQqG",
        "colab": {
          "base_uri": "https://localhost:8080/"
        },
        "outputId": "bdafd21a-296c-4244-c835-51114d321f3a"
      },
      "outputs": [
        {
          "output_type": "stream",
          "name": "stdout",
          "text": [
            "+--------------------+--------------------+-----+\n",
            "|            paper_id|         institution|count|\n",
            "+--------------------+--------------------+-----+\n",
            "|2b06dda25000e6085...|I, Calvo AO, Gall...|  129|\n",
            "|db0c0308a7405e6ba...|Orange County Hea...|  104|\n",
            "|db6db211b8abddafe...|Northern Illinois...|   77|\n",
            "|002b2e094126e78ea...|Harvard Medical S...|   64|\n",
            "|db1d31b294ab30c2e...|Zentrum für Rhino...|   64|\n",
            "|de41dc462ed4d3576...|Sechenov First Mo...|   51|\n",
            "|2a155491b04182a59...|Imperial College ...|   48|\n",
            "|dd863cabb9e0edd30...|Hospital Sírio Li...|   46|\n",
            "|2cb5497c065e3c1ef...|Leiden University...|   46|\n",
            "|2d09cf04f003ed93e...|Aristotle Univers...|   41|\n",
            "|2bfe70ed52c64f411...|University of Not...|   41|\n",
            "|db3dbfeec25904ea1...|Duke University S...|   39|\n",
            "|2cf60380bb05becd1...|Virginia Polytech...|   37|\n",
            "|2ec268221c21259c0...|OpenSAFELY Collab...|   37|\n",
            "|1e04601589c695728...|University of Pen...|   36|\n",
            "|dc6a1bf7e383925a8...|    Emory University|   36|\n",
            "|2da484bab5fea1c1e...|Azienda Ospedalie...|   32|\n",
            "|1e79d1c817213e5f7...|University of Pen...|   32|\n",
            "|2d5498a8adecb9440...|Hospital Clinic o...|   32|\n",
            "|2bc16fdd79243daa5...|Imperial College ...|   31|\n",
            "+--------------------+--------------------+-----+\n",
            "only showing top 20 rows\n",
            "\n"
          ]
        }
      ],
      "source": [
        "institutions.show()"
      ]
    },
    {
      "cell_type": "code",
      "source": [
        "# The number of total rows of this dataframe\n",
        "institutions.count()"
      ],
      "metadata": {
        "colab": {
          "base_uri": "https://localhost:8080/"
        },
        "id": "F8ZmKUx6Evmi",
        "outputId": "0e9dcb3d-6d91-4695-e1a7-6554020dedbc"
      },
      "execution_count": 22,
      "outputs": [
        {
          "output_type": "execute_result",
          "data": {
            "text/plain": [
              "21302"
            ]
          },
          "metadata": {},
          "execution_count": 22
        }
      ]
    },
    {
      "cell_type": "code",
      "execution_count": 23,
      "metadata": {
        "id": "Jmd0bsfxu0Pt"
      },
      "outputs": [],
      "source": [
        "# put the df into pandas and export it into a single file for our purpoces\n",
        "institutions.toPandas().to_csv('/content/drive/MyDrive/processed_data/institutions.csv',index=False)"
      ]
    },
    {
      "cell_type": "code",
      "execution_count": 24,
      "metadata": {
        "id": "qCZsiqtCkD4B"
      },
      "outputs": [],
      "source": [
        "# map all the researchers participated  in covid research\n",
        "# and the amount of papers they took part of\n",
        "researchers =final_df.groupBy(['name']).count()\\\n",
        "                  .na.drop(how='any')\\\n",
        "                  .sort(desc('count'))"
      ]
    },
    {
      "cell_type": "code",
      "execution_count": 25,
      "metadata": {
        "id": "aAsXWlu3kD4B",
        "colab": {
          "base_uri": "https://localhost:8080/"
        },
        "outputId": "df6b4ded-1ba1-489a-d364-7ae767a26282"
      },
      "outputs": [
        {
          "output_type": "stream",
          "name": "stdout",
          "text": [
            "+------+-----+\n",
            "|  name|count|\n",
            "+------+-----+\n",
            "|    † |  305|\n",
            "|    M |  155|\n",
            "|    J |   86|\n",
            "| Wang |   74|\n",
            "|    A |   72|\n",
            "|    Y |   68|\n",
            "|Zhang |   61|\n",
            "|    D |   58|\n",
            "| Chen |   51|\n",
            "|    W |   47|\n",
            "|    S |   45|\n",
            "|    C |   43|\n",
            "|    B |   43|\n",
            "|    ; |   42|\n",
            "|    E |   40|\n",
            "|    ✉ |   37|\n",
            "|    R |   35|\n",
            "|  Liu |   34|\n",
            "| Zhou |   33|\n",
            "|    ‡ |   33|\n",
            "+------+-----+\n",
            "only showing top 20 rows\n",
            "\n"
          ]
        }
      ],
      "source": [
        "# Showing the preview of the researchers dataframe\n",
        "researchers.show()"
      ]
    },
    {
      "cell_type": "code",
      "source": [
        "# The number of total rows of this researchers dataframe\n",
        "researchers.count()"
      ],
      "metadata": {
        "colab": {
          "base_uri": "https://localhost:8080/"
        },
        "id": "Hd6F_gCBFdIB",
        "outputId": "cc131a4f-16dc-4bd0-b47d-44c98d78e161"
      },
      "execution_count": 26,
      "outputs": [
        {
          "output_type": "execute_result",
          "data": {
            "text/plain": [
              "98841"
            ]
          },
          "metadata": {},
          "execution_count": 26
        }
      ]
    },
    {
      "cell_type": "code",
      "execution_count": 27,
      "metadata": {
        "id": "1woc_D9LkD4C"
      },
      "outputs": [],
      "source": [
        "# put the df into pandas and export it into a single file for our purpoces\n",
        "researchers.toPandas().to_csv('/content/drive/MyDrive/processed_data/researchers.csv',index=False)"
      ]
    },
    {
      "cell_type": "code",
      "execution_count": 28,
      "metadata": {
        "id": "CTAxdtK2kD4C"
      },
      "outputs": [],
      "source": [
        "# researchers by country\n",
        "countries=final_df.groupBy(['country']).count()\\\n",
        "                  .na.drop(how='any')\\\n",
        "                  .sort(desc('count'))"
      ]
    },
    {
      "cell_type": "code",
      "execution_count": 29,
      "metadata": {
        "id": "mi2vmf_RkD4D",
        "colab": {
          "base_uri": "https://localhost:8080/"
        },
        "outputId": "69d79a46-29e9-4395-f57a-d626d24cf6d0"
      },
      "outputs": [
        {
          "output_type": "stream",
          "name": "stdout",
          "text": [
            "+--------------------+-----+\n",
            "|             country|count|\n",
            "+--------------------+-----+\n",
            "|                 USA| 8506|\n",
            "|               China| 5622|\n",
            "|               Italy| 3663|\n",
            "|                  UK| 2910|\n",
            "|             Germany| 1989|\n",
            "|               Spain| 1515|\n",
            "|               Japan| 1449|\n",
            "|              France| 1392|\n",
            "|               India| 1376|\n",
            "|              Canada| 1292|\n",
            "|              Brazil| 1208|\n",
            "|           Australia| 1072|\n",
            "|       United States| 1027|\n",
            "|                Iran|  961|\n",
            "|      United Kingdom|  893|\n",
            "|         Switzerland|  645|\n",
            "|              Taiwan|  566|\n",
            "|United States of ...|  551|\n",
            "|     The Netherlands|  545|\n",
            "|             Belgium|  525|\n",
            "+--------------------+-----+\n",
            "only showing top 20 rows\n",
            "\n"
          ]
        }
      ],
      "source": [
        "# Showing the preview of the countries dataframe\n",
        "countries.show()"
      ]
    },
    {
      "cell_type": "code",
      "source": [
        "# The number of total rows of this countries dataframe\n",
        "countries.count()"
      ],
      "metadata": {
        "colab": {
          "base_uri": "https://localhost:8080/"
        },
        "id": "oDoFi51ZGVab",
        "outputId": "004f84b8-de16-4564-8dba-4e71cb70cc5c"
      },
      "execution_count": 30,
      "outputs": [
        {
          "output_type": "execute_result",
          "data": {
            "text/plain": [
              "823"
            ]
          },
          "metadata": {},
          "execution_count": 30
        }
      ]
    },
    {
      "cell_type": "code",
      "execution_count": 31,
      "metadata": {
        "id": "jO3aSxQ7zTfW"
      },
      "outputs": [],
      "source": [
        "# put the df into pandas and export it into a single file for our purpoces\n",
        "countries.toPandas().to_csv('/content/drive/MyDrive/processed_data/countries.csv',index=False)"
      ]
    },
    {
      "cell_type": "code",
      "execution_count": null,
      "metadata": {
        "id": "Zw28cIiakD4D"
      },
      "outputs": [],
      "source": [
        ""
      ]
    }
  ],
  "metadata": {
    "colab": {
      "collapsed_sections": [],
      "name": "DataAcquisition.ipynb",
      "provenance": [],
      "include_colab_link": true
    },
    "kernelspec": {
      "display_name": "Python 3",
      "language": "python",
      "name": "python3"
    },
    "language_info": {
      "codemirror_mode": {
        "name": "ipython",
        "version": 3
      },
      "file_extension": ".py",
      "mimetype": "text/x-python",
      "name": "python",
      "nbconvert_exporter": "python",
      "pygments_lexer": "ipython3",
      "version": "3.7.6"
    }
  },
  "nbformat": 4,
  "nbformat_minor": 0
}